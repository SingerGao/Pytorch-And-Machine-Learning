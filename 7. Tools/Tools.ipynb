{
 "cells": [
  {
   "cell_type": "markdown",
   "metadata": {},
   "source": [
    "# 一些实用工具"
   ]
  },
  {
   "cell_type": "markdown",
   "metadata": {},
   "source": [
    "## 1. Tensorboard\n",
    "　　Tensorboard是tensorflow框架的高级的可视化的工具，github上有人提供了Pytorch使用它的方案TensorboardX．"
   ]
  },
  {
   "cell_type": "markdown",
   "metadata": {},
   "source": [
    "## 1.1 安装 "
   ]
  },
  {
   "cell_type": "markdown",
   "metadata": {},
   "source": [
    "安装TensorboardX的命令：\n",
    "\n",
    "pip install tensorboardX\n",
    "\n",
    "pip install tensorflow"
   ]
  },
  {
   "cell_type": "markdown",
   "metadata": {},
   "source": [
    "## 1.2 用Tensorboard画网络结构图"
   ]
  },
  {
   "cell_type": "markdown",
   "metadata": {},
   "source": [
    "用add_graph()画出vgg16的网络结构图："
   ]
  },
  {
   "cell_type": "code",
   "execution_count": 1,
   "metadata": {},
   "outputs": [],
   "source": [
    "import torch\n",
    "from torchvision import models\n",
    "from tensorboardX import SummaryWriter\n",
    "\n",
    "# 定义网络\n",
    "vgg16 = models.resnet18()\n",
    "# 定义网络输入\n",
    "dummy_input = torch.rand(4, 3, 224, 224)\n",
    "# 画图\n",
    "with SummaryWriter(comment='resnet18') as w:\n",
    "    w.add_graph(vgg16, (dummy_input,))"
   ]
  },
  {
   "cell_type": "markdown",
   "metadata": {},
   "source": [
    "执行完代码，会生成runs文件夹。\n",
    "在同一文件夹下，用终端运行命令：\n",
    "\n",
    "tensorboard --logdir runs\n",
    "![add_graph](./add_graph.png)\n",
    "\n",
    "点击连接即可查看网络结构图：\n",
    "![graph](./graph.png)\n"
   ]
  },
  {
   "cell_type": "markdown",
   "metadata": {},
   "source": [
    "# 1.3 用Tensorboard画loss曲线"
   ]
  },
  {
   "cell_type": "markdown",
   "metadata": {},
   "source": [
    "用add_scalar()画单条曲线;用add_scalars()画多条曲线。"
   ]
  },
  {
   "cell_type": "code",
   "execution_count": 2,
   "metadata": {},
   "outputs": [],
   "source": [
    "import numpy as np\n",
    "from tensorboardX import SummaryWriter\n",
    "\n",
    "writer = SummaryWriter()\n",
    "\n",
    "for epoch in range(100):\n",
    "    writer.add_scalar('scalar/test', np.random.rand(), epoch)\n",
    "    writer.add_scalars('scalar/scalars_test', {'xsinx': epoch*np.sin(epoch), 'xcosx': epoch*np.cos(epoch)}, epoch)\n",
    "\n",
    "writer.close()\n"
   ]
  },
  {
   "cell_type": "markdown",
   "metadata": {},
   "source": [
    "同样用tensorboard --logdir runs 查看结果。"
   ]
  },
  {
   "cell_type": "markdown",
   "metadata": {},
   "source": [
    "# 2. 混淆矩阵"
   ]
  },
  {
   "cell_type": "markdown",
   "metadata": {},
   "source": [
    "　　混淆矩阵也叫误差矩阵。在机器学习中, 常用来可视化地评估监督学习算法的性能。混淆矩阵大小为 (n_classes, n_classes) 的方阵, 其中 n_classes表示类的数量。混淆矩阵的每一列代表了预测类别，每一列的总数表示预测为该类别的数据的数目；每一行代表了数据的真实归属类别，每一行的数据总数表示该类别的数据实例的数目。矩阵对角线的数值越高则说明训练出的模型越好。"
   ]
  },
  {
   "cell_type": "code",
   "execution_count": 7,
   "metadata": {},
   "outputs": [],
   "source": [
    "import numpy as np\n",
    "import seaborn as sns; sns.set()\n",
    "import matplotlib.pyplot as plt\n",
    "from sklearn.metrics import confusion_matrix # 混淆矩阵\n",
    "\n",
    "def plot_confusion_matrix(num_classes, true_labels, pred_labels, \n",
    "                          path=\"./confusion_matrix.png\"):\n",
    "    \"\"\"\n",
    "    画混淆矩阵。\n",
    "    Args:\n",
    "        num_classes: 类别数量。\n",
    "        true_labels: 真实标签。\n",
    "        pred_labels: 预测出的结果。\n",
    "        path: 混淆矩阵热力图保存路径。\n",
    "    \"\"\"\n",
    "    labels = range(num_classes)\n",
    "    cm = confusion_matrix(true_labels, pred_labels, labels)\n",
    "    sns.heatmap(cm, annot=True, fmt=\"d\")\n",
    "    plt.title('Confusion Matrix', fontsize = 18)\n",
    "    plt.show()\n",
    "    plt.savefig(path)\n",
    "    plt.close()"
   ]
  },
  {
   "cell_type": "markdown",
   "metadata": {},
   "source": [
    "测试代码："
   ]
  },
  {
   "cell_type": "code",
   "execution_count": 8,
   "metadata": {},
   "outputs": [
    {
     "data": {
      "image/png": "[encoded data removed]",
      "text/plain": [
       "<Figure size 432x288 with 2 Axes>"
      ]
     },
     "metadata": {},
     "output_type": "display_data"
    }
   ],
   "source": [
    "true_labels=[0, 1, 0, 1, 1, 0, 1, 0]\n",
    "pred_labels=[1, 1, 0, 1, 0, 0, 1, 0]\n",
    "plot_confusion_matrix(2, true_labels, pred_labels)"
   ]
  }
 ],
 "metadata": {
  "kernelspec": {
   "display_name": "Python 3",
   "language": "python",
   "name": "python3"
  },
  "language_info": {
   "codemirror_mode": {
    "name": "ipython",
    "version": 3
   },
   "file_extension": ".py",
   "mimetype": "text/x-python",
   "name": "python",
   "nbconvert_exporter": "python",
   "pygments_lexer": "ipython3",
   "version": "3.6.5"
  }
 },
 "nbformat": 4,
 "nbformat_minor": 2
}
